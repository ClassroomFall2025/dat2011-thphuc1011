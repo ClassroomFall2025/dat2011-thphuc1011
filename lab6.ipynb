{
 "cells": [
  {
   "cell_type": "markdown",
   "id": "fdeff819",
   "metadata": {},
   "source": [
    "# Sinh Viên thực hiện Lab 6 ở Đây"
   ]
  },
  {
   "cell_type": "markdown",
   "id": "acc5d7dc",
   "metadata": {},
   "source": [
    "## Lab 6 - Bài 1"
   ]
  },
  {
   "cell_type": "code",
   "execution_count": 10,
   "id": "001e0507",
   "metadata": {},
   "outputs": [
    {
     "name": "stdout",
     "output_type": "stream",
     "text": [
      "Hình chữ nhật có chiều dài là 4, rộng là 5, chu vi là 18 và diện tích là 20\n",
      "Hình vuông có cạnh: 5\n"
     ]
    }
   ],
   "source": [
    "# Code lab 6 bài 1 ở đây\n",
    "from hinh import *\n",
    "\n",
    "cn1 = ChuNhat(4,5)\n",
    "cn1.xuat()\n",
    "hv1 = Vuong(5)\n",
    "hv1.xuat()\n"
   ]
  },
  {
   "cell_type": "markdown",
   "id": "c0835310",
   "metadata": {},
   "source": [
    "## Lab 6 - Bài 2"
   ]
  },
  {
   "cell_type": "code",
   "execution_count": null,
   "id": "fa9cb39f",
   "metadata": {},
   "outputs": [
    {
     "name": "stdout",
     "output_type": "stream",
     "text": [
      "Phúc             XLDL     8.0      Giỏi    \n",
      "Ph               IT       7.333333333333333 Khá     \n"
     ]
    }
   ],
   "source": [
    "# Code lab 6  bài 2 ở đây\n",
    "from SinhVienPoly import *\n",
    "\n",
    "sv1 = SinhVienIT(\"Phúc\",\"XLDL\", 8, 8, 8)\n",
    "sv2 = SinhVienBiz(\"Ph\",\"IT\", 7, 8)\n",
    "sv1.xuat()\n",
    "sv2.xuat()"
   ]
  },
  {
   "cell_type": "markdown",
   "id": "0f2483fe",
   "metadata": {},
   "source": [
    "## Lab 6 - Bài 3"
   ]
  },
  {
   "cell_type": "code",
   "execution_count": 1,
   "id": "7034990b",
   "metadata": {},
   "outputs": [],
   "source": [
    "# Code lab 6  bài 3 ở đây"
   ]
  },
  {
   "cell_type": "markdown",
   "id": "d36ea3d3",
   "metadata": {},
   "source": [
    "## Lab 6 - Bài 4"
   ]
  },
  {
   "cell_type": "code",
   "execution_count": null,
   "id": "4c707ec1",
   "metadata": {},
   "outputs": [
    {
     "name": "stdout",
     "output_type": "stream",
     "text": [
      "===============MENU========================\n",
      "\n",
      "1. Nhập danh sách nhân viên\n",
      "2. Xuất thông tin danh sách sinh viên\n",
      "3. Xuất danh sách sinh viên có học lực giỏi\n",
      "4. Sắp xếp danh sách sinh viên theo điểm\n",
      "5. Kết thúc\n",
      "===========================================\n",
      "NNhập danh sách nhân viên\n",
      "===============MENU========================\n",
      "\n",
      "1. Nhập danh sách nhân viên\n",
      "2. Xuất thông tin danh sách sinh viên\n",
      "3. Xuất danh sách sinh viên có học lực giỏi\n",
      "4. Sắp xếp danh sách sinh viên theo điểm\n",
      "5. Kết thúc\n",
      "===========================================\n",
      "NNhập danh sách nhân viên\n",
      "===============MENU========================\n",
      "\n",
      "1. Nhập danh sách nhân viên\n",
      "2. Xuất thông tin danh sách sinh viên\n",
      "3. Xuất danh sách sinh viên có học lực giỏi\n",
      "4. Sắp xếp danh sách sinh viên theo điểm\n",
      "5. Kết thúc\n",
      "===========================================\n",
      "Xuất thông tin danh sách sinh viên\n",
      "Tên Sinh Viên        Ngành Học  Điểm       Học Lực   \n",
      "Ph                   it         9.5        Xuất sắc  \n",
      "PHúc                 biz        9.0        Xuất sắc  \n",
      "===============MENU========================\n",
      "\n",
      "1. Nhập danh sách nhân viên\n",
      "2. Xuất thông tin danh sách sinh viên\n",
      "3. Xuất danh sách sinh viên có học lực giỏi\n",
      "4. Sắp xếp danh sách sinh viên theo điểm\n",
      "5. Kết thúc\n",
      "===========================================\n",
      "Xuất danh sách sinh viên có học lực giỏi\n",
      "Danh sách sinh viên học lực giỏi\n",
      "Tên Sinh Viên        Ngành Học  Điểm       Học Lực   \n",
      "===============MENU========================\n",
      "\n",
      "1. Nhập danh sách nhân viên\n",
      "2. Xuất thông tin danh sách sinh viên\n",
      "3. Xuất danh sách sinh viên có học lực giỏi\n",
      "4. Sắp xếp danh sách sinh viên theo điểm\n",
      "5. Kết thúc\n",
      "===========================================\n",
      "Sắp xếp danh sách sinh viên theo điểm\n",
      "Danh sách sinh viên điểm số tăng dần\n",
      "Tên Sinh Viên        Ngành Học  Điểm       Học Lực   \n",
      "PHúc                 biz        9.0        Xuất sắc  \n",
      "Ph                   it         9.5        Xuất sắc  \n",
      "===============MENU========================\n",
      "\n",
      "1. Nhập danh sách nhân viên\n",
      "2. Xuất thông tin danh sách sinh viên\n",
      "3. Xuất danh sách sinh viên có học lực giỏi\n",
      "4. Sắp xếp danh sách sinh viên theo điểm\n",
      "5. Kết thúc\n",
      "===========================================\n",
      "Kết thúc\n"
     ]
    }
   ],
   "source": [
    "# code lab 6 bài 4 ở đây\n",
    "from quanlisv import *\n",
    "ql = QuanLiSV()\n",
    "\n",
    "menu = \"\"\"\n",
    "1. Nhập danh sách nhân viên\n",
    "2. Xuất thông tin danh sách sinh viên\n",
    "3. Xuất danh sách sinh viên có học lực giỏi\n",
    "4. Sắp xếp danh sách sinh viên theo điểm\n",
    "5. Kết thúc\"\"\"\n",
    "while True:\n",
    "    print(\"===\"*5 + \"MENU\" + \"===\"*8)\n",
    "    print(menu)\n",
    "    print(\"===\"*5 + \"====\" + \"===\"*8)\n",
    "    lua_chon = input(\"Nhập lựa chọn của bạn: \")\n",
    "    match lua_chon:\n",
    "        case \"1\":\n",
    "            print(\"Nhập danh sách nhân viên\")\n",
    "            ql.nhap_dssv()\n",
    "        case \"2\":\n",
    "            print(\"Xuất thông tin danh sách sinh viên\")\n",
    "            ql.xuat_dssv()\n",
    "        case \"3\":\n",
    "            print(\"Xuất danh sách sinh viên có học lực giỏi\")\n",
    "            ql.xuat_dssv_gioi()\n",
    "        case \"4\":\n",
    "            print(\"Sắp xếp danh sách sinh viên theo điểm\")\n",
    "            ql.sap_xep_dssv()\n",
    "        case \"5\":\n",
    "            print(\"Kết thúc\")\n",
    "            break\n",
    "        case _:\n",
    "            print(\"Lựa chọn không hợp lệ, vui lòng chọn từ 1-5\")"
   ]
  },
  {
   "cell_type": "markdown",
   "id": "e2b41d4a",
   "metadata": {},
   "source": [
    "## Lab 6 - Bài 5: bài tập làm thêm"
   ]
  },
  {
   "cell_type": "code",
   "execution_count": 9,
   "id": "0e0172f7",
   "metadata": {},
   "outputs": [],
   "source": [
    "# code lab 6  bài làm thêm ở đây "
   ]
  }
 ],
 "metadata": {
  "kernelspec": {
   "display_name": "Python 3",
   "language": "python",
   "name": "python3"
  },
  "language_info": {
   "codemirror_mode": {
    "name": "ipython",
    "version": 3
   },
   "file_extension": ".py",
   "mimetype": "text/x-python",
   "name": "python",
   "nbconvert_exporter": "python",
   "pygments_lexer": "ipython3",
   "version": "3.13.7"
  }
 },
 "nbformat": 4,
 "nbformat_minor": 5
}
