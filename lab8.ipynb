{
 "cells": [
  {
   "cell_type": "markdown",
   "id": "fdeff819",
   "metadata": {},
   "source": [
    "# Sinh Viên thực hiện Lab 8 ở Đây"
   ]
  },
  {
   "cell_type": "code",
   "execution_count": 1,
   "id": "40585dcb",
   "metadata": {},
   "outputs": [
    {
     "name": "stdout",
     "output_type": "stream",
     "text": [
      "tim kiem thanh cong.\n"
     ]
    }
   ],
   "source": [
    "import re\n",
    "pattern = r\"[abc]\"\n",
    "test_string = \"apple\"\n",
    "result = re.search(pattern, test_string)\n",
    "print(\"tim kiem thanh cong.\" if result else \"tim kiem that bai.\")"
   ]
  },
  {
   "cell_type": "code",
   "execution_count": 2,
   "id": "d73abeb7",
   "metadata": {},
   "outputs": [
    {
     "name": "stdout",
     "output_type": "stream",
     "text": [
      "tim kiem that bai.\n"
     ]
    }
   ],
   "source": [
    "pattern = r'[0-9]'\n",
    "test_string = 'Version'\n",
    "result = re.search(pattern, test_string)\n",
    "print(\"tim kiem thanh cong.\" if result else \"tim kiem that bai.\")"
   ]
  },
  {
   "cell_type": "code",
   "execution_count": 3,
   "id": "94aefa2e",
   "metadata": {},
   "outputs": [
    {
     "name": "stdout",
     "output_type": "stream",
     "text": [
      "tim kiem that bai.\n"
     ]
    }
   ],
   "source": [
    "import re\n",
    "pattern = r\"^Hello\"\n",
    "test_string = \"tôi Hello, world!\"\n",
    "result = re.match(pattern, test_string)\n",
    "print(\"tim kiem thanh cong.\" if result else \"tim kiem that bai.\")"
   ]
  },
  {
   "cell_type": "markdown",
   "id": "acc5d7dc",
   "metadata": {},
   "source": [
    "## Lab 8 - Bài 1"
   ]
  },
  {
   "cell_type": "code",
   "execution_count": 8,
   "id": "001e0507",
   "metadata": {},
   "outputs": [
    {
     "name": "stdout",
     "output_type": "stream",
     "text": [
      "Họ: VÕ\n",
      "Tên đệm: THÀNH\n",
      "Tên: PHÚC\n"
     ]
    }
   ],
   "source": [
    "# Code lab 8 bài 1 ở đây\n",
    "ho_ten = input(\"Nhập họ tên của bạn: \").strip()\n",
    "ds = ho_ten.split()\n",
    "\n",
    "if not ds:\n",
    "    print(\"Không có thông tin họ tên được nhập.\")\n",
    "    exit()\n",
    "\n",
    "ho = ds[0]\n",
    "ten = ds[-1]\n",
    "ten_dem = \" \".join(ds[1:-1])\n",
    "ho_in_hoa = ho.upper()\n",
    "ten_in_hoa = ten.upper()\n",
    "ten_dem = ten_dem.upper()\n",
    "print(f\"Họ: {ho_in_hoa}\")\n",
    "print(f\"Tên đệm: {ten_dem}\")\n",
    "print(f\"Tên: {ten_in_hoa}\")"
   ]
  },
  {
   "cell_type": "markdown",
   "id": "c0835310",
   "metadata": {},
   "source": [
    "## Lab 8 - Bài 2"
   ]
  },
  {
   "cell_type": "code",
   "execution_count": null,
   "id": "fa9cb39f",
   "metadata": {},
   "outputs": [
    {
     "name": "stdout",
     "output_type": "stream",
     "text": [
      "\n",
      " Thông tin sinh viên đã được nhập hợp lệ:\n",
      "{'ho_ten': 'Võ Thành Phúc', 'email': 'thphuc1011@gmail.com', 'so_dien_thoai': '0359696610', 'cmnd': '080206005056'}\n"
     ]
    }
   ],
   "source": [
    "# Code lab 8  bài 2 ở đây\n",
    "import re\n",
    "EMAIL = r'^[a-zA-Z0-9._-]+@[a-zA-Z0-9.-]+\\.[a-zA-Z]{2,4}$'\n",
    "\n",
    "SDT = r'^(0|\\+84)\\d{9,10}$'\n",
    "\n",
    "CMND = r'^((00[1-9]|0[1-9]\\d|[1-9]\\d{2}))([0-3])(\\d{2})(\\d{6})$'\n",
    "\n",
    "def kiem_tra(data, pattern):\n",
    "    if re.fullmatch(pattern, data):\n",
    "        return True\n",
    "    return False\n",
    "\n",
    "def nhap_thong_tin_sinh_vien():\n",
    "    sinh_vien = {}\n",
    "\n",
    "    sinh_vien['ho_ten'] = input(\"Nhập Họ Tên: \")\n",
    "\n",
    "    while True:\n",
    "        email = input(\"Nhập Email: \")\n",
    "        if kiem_tra(email, EMAIL):\n",
    "            sinh_vien['email'] = email\n",
    "            break\n",
    "        else:\n",
    "            print(\"Email không đúng định dạng.\")\n",
    "\n",
    "    while True:\n",
    "        sdt = input(\"Nhập Số điện thoại: \")\n",
    "        if kiem_tra(sdt, SDT):\n",
    "            sinh_vien['so_dien_thoai'] = sdt\n",
    "            break\n",
    "        else:\n",
    "            print(\"Số điện thoại không đúng định dạng.\")\n",
    "\n",
    "    while True:\n",
    "        cmnd = input(\"Nhập CMND/CCCD: \")\n",
    "        if kiem_tra(cmnd, CMND):\n",
    "            sinh_vien['cmnd'] = cmnd\n",
    "            break\n",
    "        else:\n",
    "            print(\"CMND/CCCD không đúng định dạng.\")\n",
    "\n",
    "    print(\"\\n Thông tin sinh viên hợp lệ:\")\n",
    "    print(sinh_vien)\n",
    "\n",
    "if __name__ == \"__main__\":\n",
    "    nhap_thong_tin_sinh_vien()"
   ]
  },
  {
   "cell_type": "markdown",
   "id": "0f2483fe",
   "metadata": {},
   "source": [
    "## Lab 8 - Bài 3"
   ]
  },
  {
   "cell_type": "code",
   "execution_count": 9,
   "id": "7034990b",
   "metadata": {},
   "outputs": [
    {
     "name": "stdout",
     "output_type": "stream",
     "text": [
      "Bắt đầu tạo 1000000 số nguyên ngẫu nhiên...\n",
      "Đã tạo và ghi 100000 số...\n",
      "Đã tạo và ghi 200000 số...\n",
      "Đã tạo và ghi 300000 số...\n",
      "Đã tạo và ghi 400000 số...\n",
      "Đã tạo và ghi 500000 số...\n",
      "Đã tạo và ghi 600000 số...\n",
      "Đã tạo và ghi 700000 số...\n",
      "Đã tạo và ghi 800000 số...\n",
      "Đã tạo và ghi 900000 số...\n",
      "Đã tạo và ghi 1000000 số...\n",
      "Đã tạo thành công 1000000 số và ghi vào file 'Bai3.txt'.\n"
     ]
    }
   ],
   "source": [
    "# Code lab 8  bài 3 ở đây\n",
    "import random\n",
    "\n",
    "def chuong_trinh(file_name=\"Bai3.txt\", so_luong=1000000):\n",
    "    print(f\"Bắt đầu tạo {so_luong} số nguyên ngẫu nhiên...\")\n",
    "    \n",
    "    try:\n",
    "        with open(file_name, 'w') as f:\n",
    "            for i in range(so_luong):\n",
    "                so_ngau_nhien = random.randint(0, 100)\n",
    "                \n",
    "                f.write(str(so_ngau_nhien))\n",
    "                \n",
    "                f.write(' ')\n",
    "                \n",
    "                if (i + 1) % 100000 == 0:\n",
    "                    print(f\"Đã tạo và ghi {i + 1} số...\")\n",
    "\n",
    "        print(f\"Đã tạo thành công {so_luong} số và ghi vào file '{file_name}'.\")\n",
    "\n",
    "    except Exception as e:\n",
    "        print(f\"Lỗi khi ghi file: {e}\")\n",
    "\n",
    "if __name__ == \"__main__\":\n",
    "    chuong_trinh()"
   ]
  },
  {
   "cell_type": "markdown",
   "id": "d36ea3d3",
   "metadata": {},
   "source": [
    "## Lab 8 - Bài 4"
   ]
  },
  {
   "cell_type": "code",
   "execution_count": 13,
   "id": "4c707ec1",
   "metadata": {},
   "outputs": [
    {
     "name": "stdout",
     "output_type": "stream",
     "text": [
      "Đã đọc thành công 1000000 số từ file. Bắt đầu tính toán...\n",
      "\n",
      "Kết quả:\n",
      "Trung bình (Mean/Average): 49.9867\n",
      "Độ lệch chuẩn (Standard Deviation): 29.1534\n"
     ]
    }
   ],
   "source": [
    "# code lab 8 bài 4 ở đây\n",
    "import statistics\n",
    "import time\n",
    "\n",
    "def tinh_toan(file_name=\"Bai3.txt\"):\n",
    "    start_time = time.time()\n",
    "    \n",
    "    try:\n",
    "        with open(file_name, 'r') as f:\n",
    "            noi_dung = f.read()\n",
    "            \n",
    "            du_lieu_generator = (int(s) for s in noi_dung.split() if s)\n",
    "            \n",
    "            du_lieu_so = list(du_lieu_generator)\n",
    "\n",
    "    except FileNotFoundError:\n",
    "        print(f\"Không tìm thấy file '{file_name}'. Hãy chắc chắn bạn đã chạy Bài 3.\")\n",
    "        return\n",
    "    except Exception as e:\n",
    "        print(f\"Lỗi khi đọc hoặc xử lý dữ liệu: {e}\")\n",
    "        return\n",
    "\n",
    "    if not du_lieu_so:\n",
    "        print(\"Dữ liệu trong file trống hoặc không hợp lệ.\")\n",
    "        return\n",
    "\n",
    "    print(f\"Đã đọc thành công {len(du_lieu_so)} số từ file. Bắt đầu tính toán...\")\n",
    "\n",
    "    try:\n",
    "        mean_value = statistics.mean(du_lieu_so)\n",
    "        \n",
    "        std_dev_value = statistics.pstdev(du_lieu_so) \n",
    "\n",
    "        print(\"\\nKết quả:\")\n",
    "        print(f\"Trung bình (Mean/Average): {mean_value:.4f}\")\n",
    "        print(f\"Độ lệch chuẩn (Standard Deviation): {std_dev_value:.4f}\")\n",
    "        \n",
    "    except statistics.StatisticsError as e:\n",
    "        print(f\"Lỗi tính toán thống kê: {e}\")\n",
    "    \n",
    "\n",
    "if __name__ == \"__main__\":\n",
    "    tinh_toan()"
   ]
  },
  {
   "cell_type": "markdown",
   "id": "e2b41d4a",
   "metadata": {},
   "source": [
    "## Lab 8 - Bài 5: bài tập làm thêm"
   ]
  },
  {
   "cell_type": "code",
   "execution_count": null,
   "id": "0e0172f7",
   "metadata": {},
   "outputs": [],
   "source": [
    "# code lab 8  bài làm thêm ở đây "
   ]
  }
 ],
 "metadata": {
  "kernelspec": {
   "display_name": "Python 3",
   "language": "python",
   "name": "python3"
  },
  "language_info": {
   "codemirror_mode": {
    "name": "ipython",
    "version": 3
   },
   "file_extension": ".py",
   "mimetype": "text/x-python",
   "name": "python",
   "nbconvert_exporter": "python",
   "pygments_lexer": "ipython3",
   "version": "3.13.7"
  }
 },
 "nbformat": 4,
 "nbformat_minor": 5
}
