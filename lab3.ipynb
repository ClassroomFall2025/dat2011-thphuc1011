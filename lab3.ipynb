{
 "cells": [
  {
   "cell_type": "markdown",
   "id": "fdeff819",
   "metadata": {},
   "source": [
    "# Sinh Viên thực hiện Lab 3 ở Đây"
   ]
  },
  {
   "cell_type": "code",
   "execution_count": 7,
   "id": "664e5fa0",
   "metadata": {},
   "outputs": [
    {
     "name": "stdout",
     "output_type": "stream",
     "text": [
      "10\n"
     ]
    }
   ],
   "source": [
    "x = 10\n",
    "while  x <= 10:\n",
    "    if x % 3== 0:\n",
    "        x += 1\n",
    "        continue\n",
    "    print(x)\n",
    "    x += 1"
   ]
  },
  {
   "cell_type": "code",
   "execution_count": 8,
   "id": "4bc0f0a7",
   "metadata": {},
   "outputs": [
    {
     "name": "stdout",
     "output_type": "stream",
     "text": [
      "20 = 0\n",
      "21 = 2\n",
      "22 = 4\n",
      "23 = 6\n",
      "24 = 8\n",
      "25 = 10\n",
      "26 = 12\n",
      "27 = 14\n",
      "28 = 16\n",
      "29 = 18\n",
      "210 = 20\n",
      "211 = 22\n",
      "212 = 24\n",
      "213 = 26\n",
      "214 = 28\n",
      "215 = 30\n",
      "216 = 32\n",
      "217 = 34\n",
      "218 = 36\n",
      "219 = 38\n"
     ]
    }
   ],
   "source": [
    "for i in range(20):\n",
    "    print(\"2\" + str(i) + \" = \" + str(2*i))"
   ]
  },
  {
   "cell_type": "markdown",
   "id": "78a52220",
   "metadata": {},
   "source": [
    "## Lab 3 - Bài 1"
   ]
  },
  {
   "cell_type": "code",
   "execution_count": 21,
   "id": "89adedbb",
   "metadata": {},
   "outputs": [
    {
     "name": "stdout",
     "output_type": "stream",
     "text": [
      "1. Phep tinh co ban: Cong, tru, nhan, chia\n",
      "        2. Luy thua: Tinh x^y\n",
      "        3. Can bac hai: Tinh √x\n",
      "        4. Ham luong giac: Sin, cos, tan\n",
      "        5. Logarit: Log co so 10, ln, log co so tuy chon\n",
      "        6. Giai phuong trinh bac nhat\n",
      "        7. Giai phuong trinh bac 2\n",
      "        8. Lich su: Luu va xem lai cac phep tinh da thuc hien\n",
      "        9. Thoi gian: Hien thi thoi gian hien tai\n",
      "        10. Giao dien than thien: Menu de su dung bang tieng Viet\n",
      "Phep tinh co ban: Cong, tru, nhan, chia\n",
      "1. Phep tinh co ban: Cong, tru, nhan, chia\n",
      "        2. Luy thua: Tinh x^y\n",
      "        3. Can bac hai: Tinh √x\n",
      "        4. Ham luong giac: Sin, cos, tan\n",
      "        5. Logarit: Log co so 10, ln, log co so tuy chon\n",
      "        6. Giai phuong trinh bac nhat\n",
      "        7. Giai phuong trinh bac 2\n",
      "        8. Lich su: Luu va xem lai cac phep tinh da thuc hien\n",
      "        9. Thoi gian: Hien thi thoi gian hien tai\n",
      "        10. Giao dien than thien: Menu de su dung bang tieng Viet\n",
      "Thoat chuong trinh\n"
     ]
    }
   ],
   "source": [
    "menu = \"\"\"1. Phep tinh co ban: Cong, tru, nhan, chia\n",
    "        2. Luy thua: Tinh x^y\n",
    "        3. Can bac hai: Tinh √x\n",
    "        4. Ham luong giac: Sin, cos, tan\n",
    "        5. Logarit: Log co so 10, ln, log co so tuy chon\n",
    "        6. Giai phuong trinh bac nhat\n",
    "        7. Giai phuong trinh bac 2\n",
    "        8. Lich su: Luu va xem lai cac phep tinh da thuc hien\n",
    "        9. Thoi gian: Hien thi thoi gian hien tai\n",
    "        10. Giao dien than thien: Menu de su dung bang tieng Viet\"\"\"\n",
    "while True:\n",
    "    print(menu)\n",
    "    lua_chon = input(\"Nhap lua chon cua ban (0 de thoat): \")\n",
    "    match lua_chon:\n",
    "        case \"0\":\n",
    "            print(\"Thoat chuong trinh\")\n",
    "            break\n",
    "        case \"1\":\n",
    "            print(\"Phep tinh co ban: Cong, tru, nhan, chia\")\n",
    "        case \"2\":\n",
    "            print(\"Luy thua: Tinh x^y\")\n",
    "        case \"3\":\n",
    "            print(\"Can bac hai: Tinh √x\")\n",
    "        case \"4\":\n",
    "            print(\"Ham luong giac: Sin, cos, tan\")\n",
    "        case \"5\":\n",
    "            print(\"Logarit: Log co so 10, ln, log co so tuy chon\")\n",
    "        case \"6\":\n",
    "            print(\"Giai phuong trinh bac nhat\")\n",
    "        case \"7\":\n",
    "            print(\"Giai phuong trinh bac 2\")\n",
    "        case \"8\":\n",
    "            print(\"Lich su: Luu va xem lai cac phep tinh da thuc hien\")\n",
    "        case \"9\":\n",
    "            print(\"Thoi gian: Hien thi thoi gian hien tai\")\n",
    "        case \"10\":\n",
    "            print(\"Giao dien than thien: Menu de su dung bang tieng Viet\")\n",
    "        case _:\n",
    "            print(\"Lựa chọn không hợp lệ, vui lòng chọn lại.\")\n"
   ]
  },
  {
   "cell_type": "code",
   "execution_count": 8,
   "id": "001e0507",
   "metadata": {},
   "outputs": [
    {
     "name": "stdout",
     "output_type": "stream",
     "text": [
      "Sắp xếp dãy số:  [9, 9, 12, 19, 19, 20, 21, 23, 59, 77]\n",
      "Phần tử có giá trị nhỏ nhất:  9\n",
      "Các phần tử chia hết cho 3:  9\n",
      "Tổng các phần tử chia hết cho 3:  9\n",
      "Số lượng các phần tử chia hết cho 3:  1\n",
      "Trung bình cộng các phần tử chia hết cho 3:  9.0\n",
      "Các phần tử chia hết cho 3:  9\n",
      "Tổng các phần tử chia hết cho 3:  18\n",
      "Số lượng các phần tử chia hết cho 3:  2\n",
      "Trung bình cộng các phần tử chia hết cho 3:  9.0\n",
      "Các phần tử chia hết cho 3:  12\n",
      "Tổng các phần tử chia hết cho 3:  30\n",
      "Số lượng các phần tử chia hết cho 3:  3\n",
      "Trung bình cộng các phần tử chia hết cho 3:  10.0\n",
      "Không có phần tử nào chia hết cho 3\n",
      "Không có phần tử nào chia hết cho 3\n",
      "Không có phần tử nào chia hết cho 3\n",
      "Các phần tử chia hết cho 3:  21\n",
      "Tổng các phần tử chia hết cho 3:  51\n",
      "Số lượng các phần tử chia hết cho 3:  4\n",
      "Trung bình cộng các phần tử chia hết cho 3:  12.75\n",
      "Không có phần tử nào chia hết cho 3\n",
      "Không có phần tử nào chia hết cho 3\n",
      "Không có phần tử nào chia hết cho 3\n"
     ]
    }
   ],
   "source": [
    "# Code lab 3 bài 1 ở đây\n",
    "day_so = [9, 59, 21, 9, 20, 23, 19, 12, 19, 77]\n",
    "day_so.sort()\n",
    "print(\"Sắp xếp dãy số: \", day_so)\n",
    "print(\"Phần tử có giá trị nhỏ nhất: \", day_so[0])\n",
    "Tong= 0\n",
    "Dem= 0\n",
    "for n in day_so:\n",
    "    if n % 3 == 0:\n",
    "        Tong += n\n",
    "        Dem += 1\n",
    "        if Dem>0:\n",
    "            TB = Tong / Dem\n",
    "        print(\"Các phần tử chia hết cho 3: \", n)\n",
    "        print(\"Tổng các phần tử chia hết cho 3: \", Tong)\n",
    "        print(\"Số lượng các phần tử chia hết cho 3: \", Dem)\n",
    "        print(\"Trung bình cộng các phần tử chia hết cho 3: \", TB)\n",
    "    else:\n",
    "        print(\"Không có phần tử nào chia hết cho 3\")\n",
    "        "
   ]
  },
  {
   "cell_type": "markdown",
   "id": "c0835310",
   "metadata": {},
   "source": [
    "## Lab 3 - Bài 2"
   ]
  },
  {
   "cell_type": "code",
   "execution_count": 21,
   "id": "fa9cb39f",
   "metadata": {},
   "outputs": [
    {
     "name": "stdout",
     "output_type": "stream",
     "text": [
      "Kết thúc nhập dữ liệu\n",
      "[{'Tên': 'Tình', 'Điểm': 0.0, 'Học lực': 'Yếu', 'Họ tên': 'e'}]\n"
     ]
    }
   ],
   "source": [
    "# Code lab 3  bài 2 ở đây\n",
    "dssv = []\n",
    "sinh_vien = {}\n",
    "while True:\n",
    "   ho_ten = input(\"Nhập họ tên sinh viên: \") \n",
    "   if ho_ten.lower() == \"e\":\n",
    "       print(\"Kết thúc nhập dữ liệu\")\n",
    "       break\n",
    "   else:\n",
    "        diem = float(input(\"Nhập điểm trung bình của sinh viên: \"))\n",
    "        sinh_vien = {'Tên': ho_ten, 'Điểm': diem}\n",
    "if diem >= 9 and diem <= 10:\n",
    "    sinh_vien[\"Học lực\"] = \"Xuất sắc\"\n",
    "elif diem >= 8:\n",
    "    sinh_vien[\"Học lực\"] = \"Giỏi\"\n",
    "elif diem >= 7:\n",
    "    sinh_vien[\"Học lực\"] = \"Khá\"\n",
    "elif diem >= 5:\n",
    "    sinh_vien[\"Học lực\"] = \"Trung bình\"\n",
    "else:\n",
    "    sinh_vien[\"Học lực\"] = \"Yếu\"\n",
    "    sinh_vien[\"Họ tên\"] = ho_ten\n",
    "    sinh_vien[\"Điểm\"] = diem\n",
    "    dssv.append(sinh_vien)\n",
    "print(dssv)"
   ]
  },
  {
   "cell_type": "markdown",
   "id": "0f2483fe",
   "metadata": {},
   "source": [
    "## Lab 3 - Bài 3"
   ]
  },
  {
   "cell_type": "code",
   "execution_count": 56,
   "id": "7034990b",
   "metadata": {},
   "outputs": [
    {
     "name": "stdout",
     "output_type": "stream",
     "text": [
      "10 là số nguyên tố\n"
     ]
    }
   ],
   "source": [
    "# Code lab 3  bài 3 ở đây\n",
    "n = int(input(\"Nhập số nguyên dương n: \"))\n",
    "ok = True\n",
    "i = 2\n",
    "while i < (n - 1):\n",
    "    if n % i == 0:\n",
    "            ok = False;\n",
    "            break;\n",
    "i += 1\n",
    "if n > 1:\n",
    "    print(n, \"là số nguyên tố\")\n",
    "else:\n",
    "    print(n, \"không phải là số nguyên tố\")"
   ]
  },
  {
   "cell_type": "markdown",
   "id": "d36ea3d3",
   "metadata": {},
   "source": [
    "## Lab 3 - Bài 4"
   ]
  },
  {
   "cell_type": "code",
   "execution_count": 69,
   "id": "6d8f5096",
   "metadata": {},
   "outputs": [
    {
     "name": "stdout",
     "output_type": "stream",
     "text": [
      "1 x 1 = 1\n",
      "1 x 2 = 2\n",
      "1 x 3 = 3\n",
      "1 x 4 = 4\n",
      "1 x 5 = 5\n",
      "1 x 6 = 6\n",
      "1 x 7 = 7\n",
      "1 x 8 = 8\n",
      "1 x 9 = 9\n",
      "2 x 1 = 2\n",
      "2 x 2 = 4\n",
      "2 x 3 = 6\n",
      "2 x 4 = 8\n",
      "2 x 5 = 10\n",
      "2 x 6 = 12\n",
      "2 x 7 = 14\n",
      "2 x 8 = 16\n",
      "2 x 9 = 18\n",
      "3 x 1 = 3\n",
      "3 x 2 = 6\n",
      "3 x 3 = 9\n",
      "3 x 4 = 12\n",
      "3 x 5 = 15\n",
      "3 x 6 = 18\n",
      "3 x 7 = 21\n",
      "3 x 8 = 24\n",
      "3 x 9 = 27\n",
      "4 x 1 = 4\n",
      "4 x 2 = 8\n",
      "4 x 3 = 12\n",
      "4 x 4 = 16\n",
      "4 x 5 = 20\n",
      "4 x 6 = 24\n",
      "4 x 7 = 28\n",
      "4 x 8 = 32\n",
      "4 x 9 = 36\n",
      "5 x 1 = 5\n",
      "5 x 2 = 10\n",
      "5 x 3 = 15\n",
      "5 x 4 = 20\n",
      "5 x 5 = 25\n",
      "5 x 6 = 30\n",
      "5 x 7 = 35\n",
      "5 x 8 = 40\n",
      "5 x 9 = 45\n",
      "6 x 1 = 6\n",
      "6 x 2 = 12\n",
      "6 x 3 = 18\n",
      "6 x 4 = 24\n",
      "6 x 5 = 30\n",
      "6 x 6 = 36\n",
      "6 x 7 = 42\n",
      "6 x 8 = 48\n",
      "6 x 9 = 54\n",
      "7 x 1 = 7\n",
      "7 x 2 = 14\n",
      "7 x 3 = 21\n",
      "7 x 4 = 28\n",
      "7 x 5 = 35\n",
      "7 x 6 = 42\n",
      "7 x 7 = 49\n",
      "7 x 8 = 56\n",
      "7 x 9 = 63\n",
      "8 x 1 = 8\n",
      "8 x 2 = 16\n",
      "8 x 3 = 24\n",
      "8 x 4 = 32\n",
      "8 x 5 = 40\n",
      "8 x 6 = 48\n",
      "8 x 7 = 56\n",
      "8 x 8 = 64\n",
      "8 x 9 = 72\n",
      "9 x 1 = 9\n",
      "9 x 2 = 18\n",
      "9 x 3 = 27\n",
      "9 x 4 = 36\n",
      "9 x 5 = 45\n",
      "9 x 6 = 54\n",
      "9 x 7 = 63\n",
      "9 x 8 = 72\n",
      "9 x 9 = 81\n"
     ]
    }
   ],
   "source": [
    "# code lab 3 bài 4 ở đây\n",
    "x = 9\n",
    "for i in range(1, 10):\n",
    "    for j in range(1, 10):\n",
    "          print(\"%d x %d = %d\" % (i, j, i * j))"
   ]
  },
  {
   "cell_type": "markdown",
   "id": "e2b41d4a",
   "metadata": {},
   "source": [
    "## Lab 3 - Bài 5: bài tập làm thêm"
   ]
  },
  {
   "cell_type": "code",
   "execution_count": null,
   "id": "0e0172f7",
   "metadata": {},
   "outputs": [],
   "source": [
    "# code lab 3  bài làm thêm ở đây "
   ]
  }
 ],
 "metadata": {
  "kernelspec": {
   "display_name": "Python 3",
   "language": "python",
   "name": "python3"
  },
  "language_info": {
   "codemirror_mode": {
    "name": "ipython",
    "version": 3
   },
   "file_extension": ".py",
   "mimetype": "text/x-python",
   "name": "python",
   "nbconvert_exporter": "python",
   "pygments_lexer": "ipython3",
   "version": "3.13.7"
  }
 },
 "nbformat": 4,
 "nbformat_minor": 5
}
