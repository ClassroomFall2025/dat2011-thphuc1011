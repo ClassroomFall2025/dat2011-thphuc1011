{
 "cells": [
  {
   "cell_type": "code",
   "execution_count": 13,
   "id": "924d1357",
   "metadata": {},
   "outputs": [
    {
     "name": "stdout",
     "output_type": "stream",
     "text": [
      "1. Nhap danh sach nhan vien\n",
      "        2. Doc thong tin nhan vien\n",
      "        3. Tim và hien thi nhan vien theo ma\n",
      "        4. Xoa nhan vien\n",
      "        5. Cap nhat thong tin nhan vien\n",
      "        6. Tim cac nhan vien theo khoang luong\n",
      "        7. Sap xep nhan vien theo ho va ten\n",
      "        8. Sap xep nhan vien theo thu nhap\n",
      "        9. Xuat 5 nhan vien co thu nhap cao nhat\n",
      "Nhap danh sach nhan vien\n"
     ]
    },
    {
     "ename": "AttributeError",
     "evalue": "module 'ASM1' has no attribute 'cn1'",
     "output_type": "error",
     "traceback": [
      "\u001b[31m---------------------------------------------------------------------------\u001b[39m",
      "\u001b[31mAttributeError\u001b[39m                            Traceback (most recent call last)",
      "\u001b[36mCell\u001b[39m\u001b[36m \u001b[39m\u001b[32mIn[13]\u001b[39m\u001b[32m, line 11\u001b[39m\n\u001b[32m      9\u001b[39m \u001b[38;5;28;01mcase\u001b[39;00m \u001b[33m\"\u001b[39m\u001b[33m1\u001b[39m\u001b[33m\"\u001b[39m:\n\u001b[32m     10\u001b[39m     \u001b[38;5;28mprint\u001b[39m(\u001b[33m\"\u001b[39m\u001b[33mNhap danh sach nhan vien\u001b[39m\u001b[33m\"\u001b[39m)\n\u001b[32m---> \u001b[39m\u001b[32m11\u001b[39m     \u001b[43mASM1\u001b[49m\u001b[43m.\u001b[49m\u001b[43mcn1\u001b[49m\n\u001b[32m     12\u001b[39m \u001b[38;5;28;01mcase\u001b[39;00m \u001b[33m\"\u001b[39m\u001b[33m2\u001b[39m\u001b[33m\"\u001b[39m:\n\u001b[32m     13\u001b[39m     \u001b[38;5;28mprint\u001b[39m(\u001b[33m\"\u001b[39m\u001b[33mDoc thong tin nhan vien\u001b[39m\u001b[33m\"\u001b[39m)\n",
      "\u001b[31mAttributeError\u001b[39m: module 'ASM1' has no attribute 'cn1'"
     ]
    }
   ],
   "source": [
    "import ASM1\n",
    "while True:\n",
    "    print(ASM1.menu)\n",
    "    lua_chon = input(\"Nhap lua chon cua ban (0 de thoat): \")\n",
    "    match lua_chon:\n",
    "        case \"0\":\n",
    "            print(\"Thoat chuong trinh\")\n",
    "            break\n",
    "        case \"1\":\n",
    "            print(\"Nhap danh sach nhan vien\")\n",
    "            ASM1.cn1\n",
    "        case \"2\":\n",
    "            print(\"Doc thong tin nhan vien\")\n",
    "        case \"3\":\n",
    "            print(\"Tim va hien thi nhan vien theo ma\")\n",
    "        case \"4\":\n",
    "            print(\"Xoa nhan vien\")\n",
    "        case \"5\":\n",
    "            print(\"Cap nhat thong tin nhan vien\")\n",
    "        case \"6\":\n",
    "            print(\"Tim cac nhan vien theo khoang luong\")\n",
    "        case \"7\":\n",
    "            print(\"Sap xep nhan vien theo ho va ten\")\n",
    "        case \"8\":\n",
    "            print(\"Sap xep nhan vien theo thu nhap\")\n",
    "        case \"9\":\n",
    "            print(\"Xuat 5 nhan vien co thu nhap cao nhat\")\n",
    "        case _:\n",
    "            print(\"Lựa chọn không hợp lệ, vui lòng chọn lại.\")\n"
   ]
  }
 ],
 "metadata": {
  "kernelspec": {
   "display_name": "Python 3",
   "language": "python",
   "name": "python3"
  },
  "language_info": {
   "codemirror_mode": {
    "name": "ipython",
    "version": 3
   },
   "file_extension": ".py",
   "mimetype": "text/x-python",
   "name": "python",
   "nbconvert_exporter": "python",
   "pygments_lexer": "ipython3",
   "version": "3.13.7"
  }
 },
 "nbformat": 4,
 "nbformat_minor": 5
}
